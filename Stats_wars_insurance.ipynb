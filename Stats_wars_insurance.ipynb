{
 "cells": [
  {
   "cell_type": "code",
   "execution_count": 563,
   "metadata": {
    "collapsed": false
   },
   "outputs": [],
   "source": [
    "import pandas as pd \n",
    "import numpy as np\n",
    "import matplotlib.pyplot as plt\n",
    "import warnings \n",
    "warnings.filterwarnings(\"ignore\")\n",
    "import seaborn as sns\n",
    "from sklearn.linear_model import LogisticRegression \n",
    "from sklearn.ensemble import  RandomForestClassifier as rfc\n",
    "from sklearn.ensemble import BaggingClassifier\n",
    "from sklearn.svm import SVR, SVC, NuSVC, NuSVR\n",
    "from sklearn.naive_bayes import MultinomialNB, GaussianNB\n"
   ]
  },
  {
   "cell_type": "code",
   "execution_count": 564,
   "metadata": {
    "collapsed": false
   },
   "outputs": [
    {
     "data": {
      "text/html": [
       "<div>\n",
       "<table border=\"1\" class=\"dataframe\">\n",
       "  <thead>\n",
       "    <tr style=\"text-align: right;\">\n",
       "      <th></th>\n",
       "      <th>Occupation.Class</th>\n",
       "      <th>Sex</th>\n",
       "      <th>Age.Class</th>\n",
       "      <th>Education</th>\n",
       "      <th>Marital.Status</th>\n",
       "      <th>Income.Group</th>\n",
       "      <th>Need.help.making.financial.decisions</th>\n",
       "      <th>Do.not.like.to.be.in.debt.at.anytime</th>\n",
       "      <th>Feel.satistifed.when.I.get.a.really.good.deal</th>\n",
       "      <th>Like.to.buy.products.with.prestigious.brand.names</th>\n",
       "      <th>Always.try.to.buy.things.on.sale</th>\n",
       "      <th>Once.find.brand.that.satistifies..don.t.experiment</th>\n",
       "      <th>Confident.will.have.enough.money.to.retire</th>\n",
       "      <th>Have.life.insurance</th>\n",
       "    </tr>\n",
       "  </thead>\n",
       "  <tbody>\n",
       "    <tr>\n",
       "      <th>0</th>\n",
       "      <td>Blue Collar</td>\n",
       "      <td>Male</td>\n",
       "      <td>40-49</td>\n",
       "      <td>Some high school</td>\n",
       "      <td>Married</td>\n",
       "      <td>High</td>\n",
       "      <td>Disagree Slightly</td>\n",
       "      <td>Disagree Slightly</td>\n",
       "      <td>Neither Agree nor Disagree</td>\n",
       "      <td>Agree Slightly</td>\n",
       "      <td>Neither Agree nor Disagree</td>\n",
       "      <td>Agree Slightly</td>\n",
       "      <td>Neither Agree nor Disagree</td>\n",
       "      <td>Yes</td>\n",
       "    </tr>\n",
       "    <tr>\n",
       "      <th>1</th>\n",
       "      <td>NaN</td>\n",
       "      <td>Male</td>\n",
       "      <td>13-19</td>\n",
       "      <td>Some high school</td>\n",
       "      <td>Single</td>\n",
       "      <td>High</td>\n",
       "      <td>Disagree Slightly</td>\n",
       "      <td>Neither Agree nor Disagree</td>\n",
       "      <td>Neither Agree nor Disagree</td>\n",
       "      <td>Neither Agree nor Disagree</td>\n",
       "      <td>Neither Agree nor Disagree</td>\n",
       "      <td>Neither Agree nor Disagree</td>\n",
       "      <td>Agree Slightly</td>\n",
       "      <td>No</td>\n",
       "    </tr>\n",
       "    <tr>\n",
       "      <th>2</th>\n",
       "      <td>Executives/Professionals</td>\n",
       "      <td>Male</td>\n",
       "      <td>20-29</td>\n",
       "      <td>College</td>\n",
       "      <td>Married</td>\n",
       "      <td>Medium high</td>\n",
       "      <td>Disagree Strongly</td>\n",
       "      <td>Agree Strongly</td>\n",
       "      <td>Neither Agree nor Disagree</td>\n",
       "      <td>Neither Agree nor Disagree</td>\n",
       "      <td>Agree Strongly</td>\n",
       "      <td>Agree Slightly</td>\n",
       "      <td>Agree Strongly</td>\n",
       "      <td>No</td>\n",
       "    </tr>\n",
       "    <tr>\n",
       "      <th>3</th>\n",
       "      <td>White Collar</td>\n",
       "      <td>Male</td>\n",
       "      <td>20-29</td>\n",
       "      <td>Primary or less</td>\n",
       "      <td>Single</td>\n",
       "      <td>Medium high</td>\n",
       "      <td>Agree Slightly</td>\n",
       "      <td>Agree Strongly</td>\n",
       "      <td>Disagree Slightly</td>\n",
       "      <td>Neither Agree nor Disagree</td>\n",
       "      <td>Agree Slightly</td>\n",
       "      <td>Disagree Strongly</td>\n",
       "      <td>Agree Slightly</td>\n",
       "      <td>Yes</td>\n",
       "    </tr>\n",
       "    <tr>\n",
       "      <th>4</th>\n",
       "      <td>NaN</td>\n",
       "      <td>Female</td>\n",
       "      <td>50-59</td>\n",
       "      <td>Primary or less</td>\n",
       "      <td>Married</td>\n",
       "      <td>Medium high</td>\n",
       "      <td>Agree Slightly</td>\n",
       "      <td>Agree Slightly</td>\n",
       "      <td>Agree Slightly</td>\n",
       "      <td>Neither Agree nor Disagree</td>\n",
       "      <td>Agree Slightly</td>\n",
       "      <td>Neither Agree nor Disagree</td>\n",
       "      <td>Agree Strongly</td>\n",
       "      <td>No</td>\n",
       "    </tr>\n",
       "  </tbody>\n",
       "</table>\n",
       "</div>"
      ],
      "text/plain": [
       "           Occupation.Class     Sex Age.Class         Education  \\\n",
       "0               Blue Collar    Male     40-49  Some high school   \n",
       "1                       NaN    Male     13-19  Some high school   \n",
       "2  Executives/Professionals    Male     20-29           College   \n",
       "3              White Collar    Male     20-29   Primary or less   \n",
       "4                       NaN  Female     50-59   Primary or less   \n",
       "\n",
       "  Marital.Status Income.Group Need.help.making.financial.decisions  \\\n",
       "0        Married         High                    Disagree Slightly   \n",
       "1         Single         High                    Disagree Slightly   \n",
       "2        Married  Medium high                    Disagree Strongly   \n",
       "3         Single  Medium high                       Agree Slightly   \n",
       "4        Married  Medium high                       Agree Slightly   \n",
       "\n",
       "  Do.not.like.to.be.in.debt.at.anytime  \\\n",
       "0                    Disagree Slightly   \n",
       "1           Neither Agree nor Disagree   \n",
       "2                       Agree Strongly   \n",
       "3                       Agree Strongly   \n",
       "4                       Agree Slightly   \n",
       "\n",
       "  Feel.satistifed.when.I.get.a.really.good.deal  \\\n",
       "0                    Neither Agree nor Disagree   \n",
       "1                    Neither Agree nor Disagree   \n",
       "2                    Neither Agree nor Disagree   \n",
       "3                             Disagree Slightly   \n",
       "4                                Agree Slightly   \n",
       "\n",
       "  Like.to.buy.products.with.prestigious.brand.names  \\\n",
       "0                                    Agree Slightly   \n",
       "1                        Neither Agree nor Disagree   \n",
       "2                        Neither Agree nor Disagree   \n",
       "3                        Neither Agree nor Disagree   \n",
       "4                        Neither Agree nor Disagree   \n",
       "\n",
       "  Always.try.to.buy.things.on.sale  \\\n",
       "0       Neither Agree nor Disagree   \n",
       "1       Neither Agree nor Disagree   \n",
       "2                   Agree Strongly   \n",
       "3                   Agree Slightly   \n",
       "4                   Agree Slightly   \n",
       "\n",
       "  Once.find.brand.that.satistifies..don.t.experiment  \\\n",
       "0                                     Agree Slightly   \n",
       "1                         Neither Agree nor Disagree   \n",
       "2                                     Agree Slightly   \n",
       "3                                  Disagree Strongly   \n",
       "4                         Neither Agree nor Disagree   \n",
       "\n",
       "  Confident.will.have.enough.money.to.retire Have.life.insurance  \n",
       "0                 Neither Agree nor Disagree                 Yes  \n",
       "1                             Agree Slightly                  No  \n",
       "2                             Agree Strongly                  No  \n",
       "3                             Agree Slightly                 Yes  \n",
       "4                             Agree Strongly                  No  "
      ]
     },
     "execution_count": 564,
     "metadata": {},
     "output_type": "execute_result"
    }
   ],
   "source": [
    "df = pd.read_csv('C:/Users/Dell/Downloads/insurance/insurance_training.csv')\n",
    "df.head()"
   ]
  },
  {
   "cell_type": "code",
   "execution_count": 565,
   "metadata": {
    "collapsed": false
   },
   "outputs": [
    {
     "name": "stdout",
     "output_type": "stream",
     "text": [
      "<class 'pandas.core.frame.DataFrame'>\n",
      "RangeIndex: 3600 entries, 0 to 3599\n",
      "Data columns (total 14 columns):\n",
      "Occupation.Class                                      2050 non-null object\n",
      "Sex                                                   3600 non-null object\n",
      "Age.Class                                             3600 non-null object\n",
      "Education                                             3600 non-null object\n",
      "Marital.Status                                        3600 non-null object\n",
      "Income.Group                                          3600 non-null object\n",
      "Need.help.making.financial.decisions                  3600 non-null object\n",
      "Do.not.like.to.be.in.debt.at.anytime                  3600 non-null object\n",
      "Feel.satistifed.when.I.get.a.really.good.deal         3600 non-null object\n",
      "Like.to.buy.products.with.prestigious.brand.names     3600 non-null object\n",
      "Always.try.to.buy.things.on.sale                      3600 non-null object\n",
      "Once.find.brand.that.satistifies..don.t.experiment    3600 non-null object\n",
      "Confident.will.have.enough.money.to.retire            3600 non-null object\n",
      "Have.life.insurance                                   3600 non-null object\n",
      "dtypes: object(14)\n",
      "memory usage: 393.8+ KB\n"
     ]
    }
   ],
   "source": [
    "df.info()"
   ]
  },
  {
   "cell_type": "code",
   "execution_count": 566,
   "metadata": {
    "collapsed": true
   },
   "outputs": [],
   "source": [
    "from sklearn.preprocessing import LabelEncoder  \n",
    "number = LabelEncoder()"
   ]
  },
  {
   "cell_type": "code",
   "execution_count": 567,
   "metadata": {
    "collapsed": false
   },
   "outputs": [
    {
     "data": {
      "text/plain": [
       "0    1822\n",
       "1    1778\n",
       "Name: Sex, dtype: int64"
      ]
     },
     "execution_count": 567,
     "metadata": {},
     "output_type": "execute_result"
    }
   ],
   "source": [
    "df['Sex'] = number.fit_transform(df['Sex'])\n",
    "df['Sex'].value_counts()"
   ]
  },
  {
   "cell_type": "code",
   "execution_count": 568,
   "metadata": {
    "collapsed": false
   },
   "outputs": [
    {
     "data": {
      "text/plain": [
       "2    787\n",
       "3    761\n",
       "1    747\n",
       "0    527\n",
       "4    405\n",
       "5    373\n",
       "Name: Age.Class, dtype: int64"
      ]
     },
     "execution_count": 568,
     "metadata": {},
     "output_type": "execute_result"
    }
   ],
   "source": [
    "df['Age.Class'] = number.fit_transform(df['Age.Class'])\n",
    "df['Age.Class'].value_counts()"
   ]
  },
  {
   "cell_type": "code",
   "execution_count": 569,
   "metadata": {
    "collapsed": false
   },
   "outputs": [
    {
     "data": {
      "text/plain": [
       "3    1965\n",
       "0     957\n",
       "2     499\n",
       "1     179\n",
       "Name: Education, dtype: int64"
      ]
     },
     "execution_count": 569,
     "metadata": {},
     "output_type": "execute_result"
    }
   ],
   "source": [
    "df['Education'] = number.fit_transform(df['Education'])\n",
    "df['Education'].value_counts()"
   ]
  },
  {
   "cell_type": "code",
   "execution_count": 570,
   "metadata": {
    "collapsed": false
   },
   "outputs": [
    {
     "data": {
      "text/plain": [
       "Married                1847\n",
       "Single                 1130\n",
       "Living together         297\n",
       "Separated, divorced     220\n",
       "Widowed                 102\n",
       "Refused/No answer         4\n",
       "Name: Marital.Status, dtype: int64"
      ]
     },
     "execution_count": 570,
     "metadata": {},
     "output_type": "execute_result"
    }
   ],
   "source": [
    "df['Marital.Status'].value_counts()"
   ]
  },
  {
   "cell_type": "code",
   "execution_count": 571,
   "metadata": {
    "collapsed": true
   },
   "outputs": [],
   "source": [
    "nan_index = df[df.loc[:, 'Marital.Status'] == 'Refused/No answer'].index"
   ]
  },
  {
   "cell_type": "code",
   "execution_count": 572,
   "metadata": {
    "collapsed": false
   },
   "outputs": [
    {
     "data": {
      "text/plain": [
       "'Refused/No answer'"
      ]
     },
     "execution_count": 572,
     "metadata": {},
     "output_type": "execute_result"
    }
   ],
   "source": [
    "df.loc[315, 'Marital.Status']"
   ]
  },
  {
   "cell_type": "code",
   "execution_count": 573,
   "metadata": {
    "collapsed": true
   },
   "outputs": [],
   "source": [
    "for i in nan_index:\n",
    "    df.loc[i, 'Marital.Status'] = 'Married'"
   ]
  },
  {
   "cell_type": "code",
   "execution_count": 574,
   "metadata": {
    "collapsed": false
   },
   "outputs": [
    {
     "data": {
      "text/plain": [
       "1    1851\n",
       "3    1130\n",
       "0     297\n",
       "2     220\n",
       "4     102\n",
       "Name: Marital.Status, dtype: int64"
      ]
     },
     "execution_count": 574,
     "metadata": {},
     "output_type": "execute_result"
    }
   ],
   "source": [
    "df['Marital.Status'] = number.fit_transform(df['Marital.Status'])\n",
    "df['Marital.Status'].value_counts()"
   ]
  },
  {
   "cell_type": "code",
   "execution_count": 575,
   "metadata": {
    "collapsed": false
   },
   "outputs": [],
   "source": [
    "mask = ~df['Occupation.Class'].isnull()\n",
    "df['Occupation.Class'][mask] = number.fit_transform(df['Occupation.Class'][mask])"
   ]
  },
  {
   "cell_type": "code",
   "execution_count": 576,
   "metadata": {
    "collapsed": false
   },
   "outputs": [
    {
     "data": {
      "text/plain": [
       "2    794\n",
       "0    780\n",
       "1    476\n",
       "Name: Occupation.Class, dtype: int64"
      ]
     },
     "execution_count": 576,
     "metadata": {},
     "output_type": "execute_result"
    }
   ],
   "source": [
    "df['Occupation.Class'].value_counts() "
   ]
  },
  {
   "cell_type": "code",
   "execution_count": 577,
   "metadata": {
    "collapsed": false
   },
   "outputs": [
    {
     "data": {
      "text/plain": [
       "2    1119\n",
       "0     935\n",
       "3     913\n",
       "1     633\n",
       "Name: Income.Group, dtype: int64"
      ]
     },
     "execution_count": 577,
     "metadata": {},
     "output_type": "execute_result"
    }
   ],
   "source": [
    "df['Income.Group'] = number.fit_transform(df['Income.Group'])\n",
    "df['Income.Group'].value_counts()"
   ]
  },
  {
   "cell_type": "code",
   "execution_count": 578,
   "metadata": {
    "collapsed": false
   },
   "outputs": [
    {
     "data": {
      "text/plain": [
       "0    996\n",
       "4    892\n",
       "2    671\n",
       "3    621\n",
       "1    420\n",
       "Name: Need.help.making.financial.decisions, dtype: int64"
      ]
     },
     "execution_count": 578,
     "metadata": {},
     "output_type": "execute_result"
    }
   ],
   "source": [
    "df['Need.help.making.financial.decisions'] = number.fit_transform(df['Need.help.making.financial.decisions'])\n",
    "df['Need.help.making.financial.decisions'].value_counts()"
   ]
  },
  {
   "cell_type": "code",
   "execution_count": 579,
   "metadata": {
    "collapsed": false
   },
   "outputs": [
    {
     "data": {
      "text/plain": [
       "1    1572\n",
       "0    1039\n",
       "4     567\n",
       "2     282\n",
       "3     140\n",
       "Name: Do.not.like.to.be.in.debt.at.anytime, dtype: int64"
      ]
     },
     "execution_count": 579,
     "metadata": {},
     "output_type": "execute_result"
    }
   ],
   "source": [
    "df['Do.not.like.to.be.in.debt.at.anytime'] = number.fit_transform(df['Do.not.like.to.be.in.debt.at.anytime'])\n",
    "df['Do.not.like.to.be.in.debt.at.anytime'].value_counts()"
   ]
  },
  {
   "cell_type": "code",
   "execution_count": 580,
   "metadata": {
    "collapsed": false
   },
   "outputs": [
    {
     "data": {
      "text/plain": [
       "0    1507\n",
       "1     977\n",
       "4     811\n",
       "2     225\n",
       "3      80\n",
       "Name: Feel.satistifed.when.I.get.a.really.good.deal, dtype: int64"
      ]
     },
     "execution_count": 580,
     "metadata": {},
     "output_type": "execute_result"
    }
   ],
   "source": [
    "df['Feel.satistifed.when.I.get.a.really.good.deal'] = number.fit_transform(df['Feel.satistifed.when.I.get.a.really.good.deal'])\n",
    "df['Feel.satistifed.when.I.get.a.really.good.deal'].value_counts()"
   ]
  },
  {
   "cell_type": "code",
   "execution_count": 581,
   "metadata": {
    "collapsed": false
   },
   "outputs": [
    {
     "data": {
      "text/plain": [
       "0    1013\n",
       "4     933\n",
       "2     672\n",
       "1     627\n",
       "3     355\n",
       "Name: Like.to.buy.products.with.prestigious.brand.names, dtype: int64"
      ]
     },
     "execution_count": 581,
     "metadata": {},
     "output_type": "execute_result"
    }
   ],
   "source": [
    "df['Like.to.buy.products.with.prestigious.brand.names'] = number.fit_transform(df['Like.to.buy.products.with.prestigious.brand.names'])\n",
    "df['Like.to.buy.products.with.prestigious.brand.names'].value_counts()"
   ]
  },
  {
   "cell_type": "code",
   "execution_count": 582,
   "metadata": {
    "collapsed": false
   },
   "outputs": [
    {
     "data": {
      "text/plain": [
       "0    1233\n",
       "4    1010\n",
       "1     662\n",
       "2     484\n",
       "3     211\n",
       "Name: Always.try.to.buy.things.on.sale, dtype: int64"
      ]
     },
     "execution_count": 582,
     "metadata": {},
     "output_type": "execute_result"
    }
   ],
   "source": [
    "df['Always.try.to.buy.things.on.sale'] = number.fit_transform(df['Always.try.to.buy.things.on.sale'])\n",
    "df['Always.try.to.buy.things.on.sale'].value_counts()"
   ]
  },
  {
   "cell_type": "code",
   "execution_count": 583,
   "metadata": {
    "collapsed": false
   },
   "outputs": [
    {
     "data": {
      "text/plain": [
       "0    1364\n",
       "4     914\n",
       "1     628\n",
       "2     542\n",
       "3     152\n",
       "Name: Once.find.brand.that.satistifies..don.t.experiment, dtype: int64"
      ]
     },
     "execution_count": 583,
     "metadata": {},
     "output_type": "execute_result"
    }
   ],
   "source": [
    "df['Once.find.brand.that.satistifies..don.t.experiment'] = number.fit_transform(df['Once.find.brand.that.satistifies..don.t.experiment'])\n",
    "df['Once.find.brand.that.satistifies..don.t.experiment'].value_counts()"
   ]
  },
  {
   "cell_type": "code",
   "execution_count": 584,
   "metadata": {
    "collapsed": false
   },
   "outputs": [
    {
     "data": {
      "text/plain": [
       "0    1092\n",
       "4     942\n",
       "1     697\n",
       "2     472\n",
       "3     397\n",
       "Name: Confident.will.have.enough.money.to.retire, dtype: int64"
      ]
     },
     "execution_count": 584,
     "metadata": {},
     "output_type": "execute_result"
    }
   ],
   "source": [
    "df['Confident.will.have.enough.money.to.retire'] = number.fit_transform(df['Confident.will.have.enough.money.to.retire'])\n",
    "df['Confident.will.have.enough.money.to.retire'].value_counts()"
   ]
  },
  {
   "cell_type": "code",
   "execution_count": 585,
   "metadata": {
    "collapsed": false
   },
   "outputs": [
    {
     "data": {
      "text/plain": [
       "0    1992\n",
       "1    1608\n",
       "Name: Have.life.insurance, dtype: int64"
      ]
     },
     "execution_count": 585,
     "metadata": {},
     "output_type": "execute_result"
    }
   ],
   "source": [
    "df['Have.life.insurance'] = number.fit_transform(df['Have.life.insurance'])\n",
    "df['Have.life.insurance'].value_counts()"
   ]
  },
  {
   "cell_type": "code",
   "execution_count": 586,
   "metadata": {
    "collapsed": false
   },
   "outputs": [],
   "source": [
    "corr = df.corr('spearman')"
   ]
  },
  {
   "cell_type": "code",
   "execution_count": 587,
   "metadata": {
    "collapsed": false,
    "scrolled": true
   },
   "outputs": [
    {
     "data": {
      "text/plain": [
       "<matplotlib.axes._subplots.AxesSubplot at 0x139014d0278>"
      ]
     },
     "execution_count": 587,
     "metadata": {},
     "output_type": "execute_result"
    }
   ],
   "source": [
    "plt.figure(figsize = (20, 10))\n",
    "sns.heatmap(corr, robust = 1, linewidths = 2)"
   ]
  },
  {
   "cell_type": "code",
   "execution_count": 588,
   "metadata": {
    "collapsed": false
   },
   "outputs": [
    {
     "data": {
      "text/plain": [
       "<matplotlib.axes._subplots.AxesSubplot at 0x139014d0278>"
      ]
     },
     "execution_count": 588,
     "metadata": {},
     "output_type": "execute_result"
    }
   ],
   "source": [
    "from sklearn.preprocessing import Imputer\n",
    "imp1 = Imputer(strategy = 'most_frequent')\n",
    "df[['Occupation.Class']] = imp1.fit_transform(df[['Occupation.Class']])\n",
    "sns.countplot(x='Occupation.Class' , data = df)\n"
   ]
  },
  {
   "cell_type": "code",
   "execution_count": 589,
   "metadata": {
    "collapsed": false
   },
   "outputs": [
    {
     "data": {
      "text/plain": [
       "(3600, 14)"
      ]
     },
     "execution_count": 589,
     "metadata": {},
     "output_type": "execute_result"
    }
   ],
   "source": [
    "df.shape"
   ]
  },
  {
   "cell_type": "code",
   "execution_count": 590,
   "metadata": {
    "collapsed": false
   },
   "outputs": [
    {
     "data": {
      "text/plain": [
       "(400, 14)"
      ]
     },
     "execution_count": 590,
     "metadata": {},
     "output_type": "execute_result"
    }
   ],
   "source": [
    "df_test.shape"
   ]
  },
  {
   "cell_type": "code",
   "execution_count": 591,
   "metadata": {
    "collapsed": true
   },
   "outputs": [],
   "source": [
    "X = df.iloc[:, :-1]\n",
    "y = df.iloc[:, -1] "
   ]
  },
  {
   "cell_type": "code",
   "execution_count": 592,
   "metadata": {
    "collapsed": false
   },
   "outputs": [
    {
     "data": {
      "text/plain": [
       "(3600, 13)"
      ]
     },
     "execution_count": 592,
     "metadata": {},
     "output_type": "execute_result"
    }
   ],
   "source": [
    "X.shape"
   ]
  },
  {
   "cell_type": "code",
   "execution_count": 593,
   "metadata": {
    "collapsed": true
   },
   "outputs": [],
   "source": [
    "from sklearn.cross_validation import train_test_split\n",
    "X_train, X_test, y_train, y_test = train_test_split(X,y,test_size=0.33, random_state = 1)"
   ]
  },
  {
   "cell_type": "code",
   "execution_count": 594,
   "metadata": {
    "collapsed": false
   },
   "outputs": [],
   "source": [
    "from sklearn.preprocessing import MaxAbsScaler\n",
    "mabs = MaxAbsScaler()\n",
    "X_train =mabs.fit_transform(X_train)\n",
    "X_test = mabs.fit_transform(X_test)"
   ]
  },
  {
   "cell_type": "code",
   "execution_count": 595,
   "metadata": {
    "collapsed": false
   },
   "outputs": [
    {
     "data": {
      "text/plain": [
       "LogisticRegression(C=1.0, class_weight=None, dual=False, fit_intercept=True,\n",
       "          intercept_scaling=1, max_iter=100, multi_class='ovr', n_jobs=1,\n",
       "          penalty='l2', random_state=1, solver='liblinear', tol=0.0001,\n",
       "          verbose=0, warm_start=False)"
      ]
     },
     "execution_count": 595,
     "metadata": {},
     "output_type": "execute_result"
    }
   ],
   "source": [
    "lr = LogisticRegression(random_state = 1)\n",
    "lr.fit(X_train,y_train)"
   ]
  },
  {
   "cell_type": "code",
   "execution_count": 596,
   "metadata": {
    "collapsed": true
   },
   "outputs": [],
   "source": [
    "predictions_train= lr.predict(X_train) \n",
    "predictions= lr.predict(X_test) "
   ]
  },
  {
   "cell_type": "code",
   "execution_count": 597,
   "metadata": {
    "collapsed": false
   },
   "outputs": [
    {
     "data": {
      "text/plain": [
       "0.6254208754208754"
      ]
     },
     "execution_count": 597,
     "metadata": {},
     "output_type": "execute_result"
    }
   ],
   "source": [
    "lr.score(X_test, y_test)"
   ]
  },
  {
   "cell_type": "code",
   "execution_count": 598,
   "metadata": {
    "collapsed": true
   },
   "outputs": [],
   "source": [
    "from sklearn.cross_validation import KFold\n",
    "kf=KFold(X.shape[0] , n_folds=20,shuffle=True,random_state=1)"
   ]
  },
  {
   "cell_type": "code",
   "execution_count": 599,
   "metadata": {
    "collapsed": false
   },
   "outputs": [
    {
     "data": {
      "text/plain": [
       "GradientBoostingClassifier(criterion='friedman_mse', init=None,\n",
       "              learning_rate=0.1, loss='deviance', max_depth=1,\n",
       "              max_features=None, max_leaf_nodes=None,\n",
       "              min_impurity_decrease=0.0, min_impurity_split=None,\n",
       "              min_samples_leaf=1, min_samples_split=2,\n",
       "              min_weight_fraction_leaf=0.0, n_estimators=100,\n",
       "              presort='auto', random_state=None, subsample=1.0, verbose=0,\n",
       "              warm_start=False)"
      ]
     },
     "execution_count": 599,
     "metadata": {},
     "output_type": "execute_result"
    }
   ],
   "source": [
    "#Now using Gradient Boosting\n",
    "from sklearn.ensemble import GradientBoostingClassifier\n",
    "clf=GradientBoostingClassifier(n_estimators=100,max_depth=1)\n",
    "clf.fit(X_train,y_train)"
   ]
  },
  {
   "cell_type": "code",
   "execution_count": 600,
   "metadata": {
    "collapsed": false
   },
   "outputs": [
    {
     "data": {
      "text/plain": [
       "0.6442786069651741"
      ]
     },
     "execution_count": 600,
     "metadata": {},
     "output_type": "execute_result"
    }
   ],
   "source": [
    "clf.score(X_train,y_train)"
   ]
  },
  {
   "cell_type": "code",
   "execution_count": 601,
   "metadata": {
    "collapsed": false
   },
   "outputs": [
    {
     "data": {
      "text/plain": [
       "0.6405723905723906"
      ]
     },
     "execution_count": 601,
     "metadata": {},
     "output_type": "execute_result"
    }
   ],
   "source": [
    "clf.score(X_test,y_test)"
   ]
  },
  {
   "cell_type": "code",
   "execution_count": 602,
   "metadata": {
    "collapsed": true
   },
   "outputs": [],
   "source": [
    "svc = SVC(random_state = 1)"
   ]
  },
  {
   "cell_type": "code",
   "execution_count": 603,
   "metadata": {
    "collapsed": false
   },
   "outputs": [
    {
     "data": {
      "text/plain": [
       "SVC(C=1.0, cache_size=200, class_weight=None, coef0=0.0,\n",
       "  decision_function_shape='ovr', degree=3, gamma='auto', kernel='rbf',\n",
       "  max_iter=-1, probability=False, random_state=1, shrinking=True,\n",
       "  tol=0.001, verbose=False)"
      ]
     },
     "execution_count": 603,
     "metadata": {},
     "output_type": "execute_result"
    }
   ],
   "source": [
    "svc.fit(X_train, y_train)"
   ]
  },
  {
   "cell_type": "code",
   "execution_count": 604,
   "metadata": {
    "collapsed": false
   },
   "outputs": [
    {
     "data": {
      "text/plain": [
       "0.6492537313432836"
      ]
     },
     "execution_count": 604,
     "metadata": {},
     "output_type": "execute_result"
    }
   ],
   "source": [
    "svc.score(X_train, y_train)"
   ]
  },
  {
   "cell_type": "code",
   "execution_count": 605,
   "metadata": {
    "collapsed": false
   },
   "outputs": [
    {
     "data": {
      "text/plain": [
       "0.6245791245791246"
      ]
     },
     "execution_count": 605,
     "metadata": {},
     "output_type": "execute_result"
    }
   ],
   "source": [
    "svc.score(X_test, y_test)"
   ]
  },
  {
   "cell_type": "code",
   "execution_count": 606,
   "metadata": {
    "collapsed": false
   },
   "outputs": [],
   "source": [
    "nusvc = NuSVC(nu = .3, random_state = 1)"
   ]
  },
  {
   "cell_type": "code",
   "execution_count": 607,
   "metadata": {
    "collapsed": false
   },
   "outputs": [
    {
     "data": {
      "text/plain": [
       "NuSVC(cache_size=200, class_weight=None, coef0=0.0,\n",
       "   decision_function_shape='ovr', degree=3, gamma='auto', kernel='rbf',\n",
       "   max_iter=-1, nu=0.3, probability=False, random_state=1, shrinking=True,\n",
       "   tol=0.001, verbose=False)"
      ]
     },
     "execution_count": 607,
     "metadata": {},
     "output_type": "execute_result"
    }
   ],
   "source": [
    "nusvc.fit(X_train, y_train)"
   ]
  },
  {
   "cell_type": "code",
   "execution_count": 608,
   "metadata": {
    "collapsed": false
   },
   "outputs": [
    {
     "data": {
      "text/plain": [
       "0.7189054726368159"
      ]
     },
     "execution_count": 608,
     "metadata": {},
     "output_type": "execute_result"
    }
   ],
   "source": [
    "nusvc.score(X_train, y_train)"
   ]
  },
  {
   "cell_type": "code",
   "execution_count": 609,
   "metadata": {
    "collapsed": false
   },
   "outputs": [
    {
     "data": {
      "text/plain": [
       "0.5673400673400674"
      ]
     },
     "execution_count": 609,
     "metadata": {},
     "output_type": "execute_result"
    }
   ],
   "source": [
    "nusvc.score(X_test, y_test)"
   ]
  },
  {
   "cell_type": "code",
   "execution_count": 610,
   "metadata": {
    "collapsed": true
   },
   "outputs": [],
   "source": [
    "nb = GaussianNB()"
   ]
  },
  {
   "cell_type": "code",
   "execution_count": 611,
   "metadata": {
    "collapsed": false
   },
   "outputs": [
    {
     "data": {
      "text/plain": [
       "GaussianNB(priors=None)"
      ]
     },
     "execution_count": 611,
     "metadata": {},
     "output_type": "execute_result"
    }
   ],
   "source": [
    "nb.fit(X_train, y_train)"
   ]
  },
  {
   "cell_type": "code",
   "execution_count": 612,
   "metadata": {
    "collapsed": false
   },
   "outputs": [
    {
     "data": {
      "text/plain": [
       "0.6285240464344942"
      ]
     },
     "execution_count": 612,
     "metadata": {},
     "output_type": "execute_result"
    }
   ],
   "source": [
    "nb.score(X_train, y_train)"
   ]
  },
  {
   "cell_type": "code",
   "execution_count": 631,
   "metadata": {
    "collapsed": false
   },
   "outputs": [
    {
     "data": {
      "text/plain": [
       "0.6397306397306397"
      ]
     },
     "execution_count": 631,
     "metadata": {},
     "output_type": "execute_result"
    }
   ],
   "source": [
    "nb.score(X_test, y_test)"
   ]
  },
  {
   "cell_type": "code",
   "execution_count": 638,
   "metadata": {
    "collapsed": false
   },
   "outputs": [
    {
     "data": {
      "text/plain": [
       "SelectFromModel(estimator=LGBMClassifier(boosting_type='gbdt', class_weight=None, colsample_bytree=0.2,\n",
       "        importance_type='split', learning_rate=0.05, max_depth=-1,\n",
       "        min_child_samples=20, min_child_weight=40, min_split_gain=0.01,\n",
       "        n_estimators=500, n_jobs=-1, num_leaves=32, objective=None,\n",
       "        random_state=None, reg_alpha=3, reg_lambda=1, silent=True,\n",
       "        subsample=1.0, subsample_for_bin=200000, subsample_freq=0),\n",
       "        norm_order=1, prefit=False, threshold='1.25*median')"
      ]
     },
     "execution_count": 638,
     "metadata": {},
     "output_type": "execute_result"
    }
   ],
   "source": [
    "from sklearn.feature_selection import SelectFromModel\n",
    "from lightgbm import LGBMClassifier\n",
    "\n",
    "lgbc=LGBMClassifier(n_estimators=500, learning_rate=0.05, num_leaves=32, colsample_bytree=0.2,\n",
    "            reg_alpha=3, reg_lambda=1, min_split_gain=0.01, min_child_weight=40)\n",
    "\n",
    "embeded_lgb_selector = SelectFromModel(lgbc, threshold='1.25*median')\n",
    "embeded_lgb_selector.fit(X_train , y_train)"
   ]
  },
  {
   "cell_type": "code",
   "execution_count": 639,
   "metadata": {
    "collapsed": false
   },
   "outputs": [
    {
     "name": "stdout",
     "output_type": "stream",
     "text": [
      "4 selected features\n"
     ]
    }
   ],
   "source": [
    "embeded_lgb_support = embeded_lgb_selector.get_support()\n",
    "embeded_lgb_feature = X.loc[:,embeded_lgb_support].columns.tolist()\n",
    "print(str(len(embeded_lgb_feature)), 'selected features')"
   ]
  },
  {
   "cell_type": "code",
   "execution_count": 614,
   "metadata": {
    "collapsed": false
   },
   "outputs": [
    {
     "data": {
      "text/html": [
       "<div>\n",
       "<table border=\"1\" class=\"dataframe\">\n",
       "  <thead>\n",
       "    <tr style=\"text-align: right;\">\n",
       "      <th></th>\n",
       "      <th>Occupation.Class</th>\n",
       "      <th>Sex</th>\n",
       "      <th>Age.Class</th>\n",
       "      <th>Education</th>\n",
       "      <th>Marital.Status</th>\n",
       "      <th>Income.Group</th>\n",
       "      <th>Need.help.making.financial.decisions</th>\n",
       "      <th>Do.not.like.to.be.in.debt.at.anytime</th>\n",
       "      <th>Feel.satistifed.when.I.get.a.really.good.deal</th>\n",
       "      <th>Like.to.buy.products.with.prestigious.brand.names</th>\n",
       "      <th>Always.try.to.buy.things.on.sale</th>\n",
       "      <th>Once.find.brand.that.satistifies..don.t.experiment</th>\n",
       "      <th>Confident.will.have.enough.money.to.retire</th>\n",
       "      <th>Have.life.insurance</th>\n",
       "    </tr>\n",
       "  </thead>\n",
       "  <tbody>\n",
       "    <tr>\n",
       "      <th>0</th>\n",
       "      <td>Blue Collar</td>\n",
       "      <td>Female</td>\n",
       "      <td>30-39</td>\n",
       "      <td>Some high school</td>\n",
       "      <td>Married</td>\n",
       "      <td>Medium high</td>\n",
       "      <td>Agree Slightly</td>\n",
       "      <td>Agree Strongly</td>\n",
       "      <td>Agree Strongly</td>\n",
       "      <td>Agree Strongly</td>\n",
       "      <td>Agree Strongly</td>\n",
       "      <td>Agree Strongly</td>\n",
       "      <td>Disagree Slightly</td>\n",
       "      <td>NaN</td>\n",
       "    </tr>\n",
       "    <tr>\n",
       "      <th>1</th>\n",
       "      <td>Blue Collar</td>\n",
       "      <td>Male</td>\n",
       "      <td>20-29</td>\n",
       "      <td>Some high school</td>\n",
       "      <td>Single</td>\n",
       "      <td>Medium high</td>\n",
       "      <td>Agree Slightly</td>\n",
       "      <td>Agree Strongly</td>\n",
       "      <td>Agree Strongly</td>\n",
       "      <td>Agree Slightly</td>\n",
       "      <td>Agree Slightly</td>\n",
       "      <td>Agree Strongly</td>\n",
       "      <td>Agree Slightly</td>\n",
       "      <td>NaN</td>\n",
       "    </tr>\n",
       "    <tr>\n",
       "      <th>2</th>\n",
       "      <td>White Collar</td>\n",
       "      <td>Male</td>\n",
       "      <td>40-49</td>\n",
       "      <td>College</td>\n",
       "      <td>Married</td>\n",
       "      <td>Medium high</td>\n",
       "      <td>Agree Slightly</td>\n",
       "      <td>Agree Slightly</td>\n",
       "      <td>Agree Strongly</td>\n",
       "      <td>Agree Strongly</td>\n",
       "      <td>Agree Strongly</td>\n",
       "      <td>Agree Strongly</td>\n",
       "      <td>Agree Strongly</td>\n",
       "      <td>NaN</td>\n",
       "    </tr>\n",
       "    <tr>\n",
       "      <th>3</th>\n",
       "      <td>NaN</td>\n",
       "      <td>Male</td>\n",
       "      <td>13-19</td>\n",
       "      <td>Some high school</td>\n",
       "      <td>Single</td>\n",
       "      <td>High</td>\n",
       "      <td>Neither Agree nor Disagree</td>\n",
       "      <td>Agree Slightly</td>\n",
       "      <td>Disagree Slightly</td>\n",
       "      <td>Disagree Slightly</td>\n",
       "      <td>Disagree Slightly</td>\n",
       "      <td>Neither Agree nor Disagree</td>\n",
       "      <td>Agree Slightly</td>\n",
       "      <td>NaN</td>\n",
       "    </tr>\n",
       "    <tr>\n",
       "      <th>4</th>\n",
       "      <td>NaN</td>\n",
       "      <td>Male</td>\n",
       "      <td>60+</td>\n",
       "      <td>Primary or less</td>\n",
       "      <td>Married</td>\n",
       "      <td>High</td>\n",
       "      <td>Disagree Strongly</td>\n",
       "      <td>Agree Strongly</td>\n",
       "      <td>Disagree Strongly</td>\n",
       "      <td>Agree Strongly</td>\n",
       "      <td>Disagree Strongly</td>\n",
       "      <td>Agree Strongly</td>\n",
       "      <td>Agree Strongly</td>\n",
       "      <td>NaN</td>\n",
       "    </tr>\n",
       "  </tbody>\n",
       "</table>\n",
       "</div>"
      ],
      "text/plain": [
       "  Occupation.Class     Sex Age.Class         Education Marital.Status  \\\n",
       "0      Blue Collar  Female     30-39  Some high school        Married   \n",
       "1      Blue Collar    Male     20-29  Some high school         Single   \n",
       "2     White Collar    Male     40-49           College        Married   \n",
       "3              NaN    Male     13-19  Some high school         Single   \n",
       "4              NaN    Male       60+   Primary or less        Married   \n",
       "\n",
       "  Income.Group Need.help.making.financial.decisions  \\\n",
       "0  Medium high                       Agree Slightly   \n",
       "1  Medium high                       Agree Slightly   \n",
       "2  Medium high                       Agree Slightly   \n",
       "3         High           Neither Agree nor Disagree   \n",
       "4         High                    Disagree Strongly   \n",
       "\n",
       "  Do.not.like.to.be.in.debt.at.anytime  \\\n",
       "0                       Agree Strongly   \n",
       "1                       Agree Strongly   \n",
       "2                       Agree Slightly   \n",
       "3                       Agree Slightly   \n",
       "4                       Agree Strongly   \n",
       "\n",
       "  Feel.satistifed.when.I.get.a.really.good.deal  \\\n",
       "0                                Agree Strongly   \n",
       "1                                Agree Strongly   \n",
       "2                                Agree Strongly   \n",
       "3                             Disagree Slightly   \n",
       "4                             Disagree Strongly   \n",
       "\n",
       "  Like.to.buy.products.with.prestigious.brand.names  \\\n",
       "0                                    Agree Strongly   \n",
       "1                                    Agree Slightly   \n",
       "2                                    Agree Strongly   \n",
       "3                                 Disagree Slightly   \n",
       "4                                    Agree Strongly   \n",
       "\n",
       "  Always.try.to.buy.things.on.sale  \\\n",
       "0                   Agree Strongly   \n",
       "1                   Agree Slightly   \n",
       "2                   Agree Strongly   \n",
       "3                Disagree Slightly   \n",
       "4                Disagree Strongly   \n",
       "\n",
       "  Once.find.brand.that.satistifies..don.t.experiment  \\\n",
       "0                                     Agree Strongly   \n",
       "1                                     Agree Strongly   \n",
       "2                                     Agree Strongly   \n",
       "3                         Neither Agree nor Disagree   \n",
       "4                                     Agree Strongly   \n",
       "\n",
       "  Confident.will.have.enough.money.to.retire  Have.life.insurance  \n",
       "0                          Disagree Slightly                  NaN  \n",
       "1                             Agree Slightly                  NaN  \n",
       "2                             Agree Strongly                  NaN  \n",
       "3                             Agree Slightly                  NaN  \n",
       "4                             Agree Strongly                  NaN  "
      ]
     },
     "execution_count": 614,
     "metadata": {},
     "output_type": "execute_result"
    }
   ],
   "source": [
    "df_test= pd.read_csv('C:/Users/Dell/Downloads/insurance/insurance_predict.csv')\n",
    "df_test.head()"
   ]
  },
  {
   "cell_type": "code",
   "execution_count": 615,
   "metadata": {
    "collapsed": false
   },
   "outputs": [
    {
     "data": {
      "text/plain": [
       "Married                195\n",
       "Single                 135\n",
       "Living together         27\n",
       "Separated, divorced     22\n",
       "Widowed                 21\n",
       "Name: Marital.Status, dtype: int64"
      ]
     },
     "execution_count": 615,
     "metadata": {},
     "output_type": "execute_result"
    }
   ],
   "source": [
    "df_test['Marital.Status'].value_counts()"
   ]
  },
  {
   "cell_type": "code",
   "execution_count": 616,
   "metadata": {
    "collapsed": true
   },
   "outputs": [],
   "source": [
    "df_test['Sex'] = number.fit_transform(df_test['Sex'])\n",
    "df_test['Age.Class'] = number.fit_transform(df_test['Age.Class'])\n",
    "df_test['Education'] = number.fit_transform(df_test['Education'])\n",
    "df_test['Marital.Status'] = number.fit_transform(df_test['Marital.Status'])\n",
    "mask = ~df_test['Occupation.Class'].isnull()\n",
    "df_test['Occupation.Class'][mask] = number.fit_transform(df_test['Occupation.Class'][mask])\n",
    "df_test['Income.Group'] = number.fit_transform(df_test['Income.Group'])\n",
    "df_test['Need.help.making.financial.decisions'] = number.fit_transform(df_test['Need.help.making.financial.decisions'])\n",
    "df_test['Do.not.like.to.be.in.debt.at.anytime'] = number.fit_transform(df_test['Do.not.like.to.be.in.debt.at.anytime'])\n",
    "df_test['Feel.satistifed.when.I.get.a.really.good.deal'] = number.fit_transform(df_test['Feel.satistifed.when.I.get.a.really.good.deal'])\n",
    "df_test['Like.to.buy.products.with.prestigious.brand.names'] = number.fit_transform(df_test['Like.to.buy.products.with.prestigious.brand.names'])\n",
    "df_test['Always.try.to.buy.things.on.sale'] = number.fit_transform(df_test['Always.try.to.buy.things.on.sale'])\n",
    "df_test['Once.find.brand.that.satistifies..don.t.experiment'] = number.fit_transform(df_test['Once.find.brand.that.satistifies..don.t.experiment'])\n",
    "df_test['Confident.will.have.enough.money.to.retire'] = number.fit_transform(df_test['Confident.will.have.enough.money.to.retire'])\n",
    "df_test['Have.life.insurance'] = number.fit_transform(df_test['Have.life.insurance'])\n",
    "df_test[['Occupation.Class']] = imp1.fit_transform(df_test[['Occupation.Class']])\n"
   ]
  },
  {
   "cell_type": "code",
   "execution_count": 617,
   "metadata": {
    "collapsed": false
   },
   "outputs": [
    {
     "data": {
      "text/plain": [
       "Occupation.Class                                      0\n",
       "Sex                                                   0\n",
       "Age.Class                                             0\n",
       "Education                                             0\n",
       "Marital.Status                                        0\n",
       "Income.Group                                          0\n",
       "Need.help.making.financial.decisions                  0\n",
       "Do.not.like.to.be.in.debt.at.anytime                  0\n",
       "Feel.satistifed.when.I.get.a.really.good.deal         0\n",
       "Like.to.buy.products.with.prestigious.brand.names     0\n",
       "Always.try.to.buy.things.on.sale                      0\n",
       "Once.find.brand.that.satistifies..don.t.experiment    0\n",
       "Confident.will.have.enough.money.to.retire            0\n",
       "Have.life.insurance                                   0\n",
       "dtype: int64"
      ]
     },
     "execution_count": 617,
     "metadata": {},
     "output_type": "execute_result"
    }
   ],
   "source": [
    "df_test.isnull().sum(axis = 0)"
   ]
  },
  {
   "cell_type": "code",
   "execution_count": 618,
   "metadata": {
    "collapsed": true
   },
   "outputs": [],
   "source": [
    "X = df_test.iloc[:, :-1]"
   ]
  },
  {
   "cell_type": "code",
   "execution_count": 619,
   "metadata": {
    "collapsed": false
   },
   "outputs": [
    {
     "data": {
      "text/plain": [
       "(2412, 13)"
      ]
     },
     "execution_count": 619,
     "metadata": {},
     "output_type": "execute_result"
    }
   ],
   "source": [
    "X_train.shape"
   ]
  },
  {
   "cell_type": "code",
   "execution_count": 620,
   "metadata": {
    "collapsed": false
   },
   "outputs": [
    {
     "data": {
      "text/plain": [
       "Index(['Occupation.Class', 'Sex', 'Age.Class', 'Education', 'Marital.Status',\n",
       "       'Income.Group', 'Need.help.making.financial.decisions',\n",
       "       'Do.not.like.to.be.in.debt.at.anytime',\n",
       "       'Feel.satistifed.when.I.get.a.really.good.deal',\n",
       "       'Like.to.buy.products.with.prestigious.brand.names',\n",
       "       'Always.try.to.buy.things.on.sale',\n",
       "       'Once.find.brand.that.satistifies..don.t.experiment',\n",
       "       'Confident.will.have.enough.money.to.retire'],\n",
       "      dtype='object')"
      ]
     },
     "execution_count": 620,
     "metadata": {},
     "output_type": "execute_result"
    }
   ],
   "source": [
    "X.columns"
   ]
  },
  {
   "cell_type": "code",
   "execution_count": 621,
   "metadata": {
    "collapsed": false
   },
   "outputs": [
    {
     "data": {
      "text/plain": [
       "(400, 13)"
      ]
     },
     "execution_count": 621,
     "metadata": {},
     "output_type": "execute_result"
    }
   ],
   "source": [
    "X.shape"
   ]
  },
  {
   "cell_type": "code",
   "execution_count": 622,
   "metadata": {
    "collapsed": false
   },
   "outputs": [],
   "source": [
    "predictions_test= clf.predict(X)"
   ]
  },
  {
   "cell_type": "code",
   "execution_count": 623,
   "metadata": {
    "collapsed": false
   },
   "outputs": [
    {
     "data": {
      "text/plain": [
       "0"
      ]
     },
     "execution_count": 623,
     "metadata": {},
     "output_type": "execute_result"
    }
   ],
   "source": [
    "predictions_test[11]"
   ]
  },
  {
   "cell_type": "code",
   "execution_count": 624,
   "metadata": {
    "collapsed": false
   },
   "outputs": [],
   "source": [
    "pred_str = []\n",
    "for i in range(len(predictions_test)):\n",
    "    if predictions_test[i] == 1:\n",
    "        pred_str.append('Yes')\n",
    "    else:\n",
    "        pred_str.append('No')"
   ]
  },
  {
   "cell_type": "code",
   "execution_count": 625,
   "metadata": {
    "collapsed": false
   },
   "outputs": [
    {
     "data": {
      "text/plain": [
       "400"
      ]
     },
     "execution_count": 625,
     "metadata": {},
     "output_type": "execute_result"
    }
   ],
   "source": [
    "df_test.shape[0]"
   ]
  },
  {
   "cell_type": "code",
   "execution_count": 626,
   "metadata": {
    "collapsed": false
   },
   "outputs": [
    {
     "data": {
      "text/plain": [
       "400"
      ]
     },
     "execution_count": 626,
     "metadata": {},
     "output_type": "execute_result"
    }
   ],
   "source": [
    "len(predictions_test)"
   ]
  },
  {
   "cell_type": "code",
   "execution_count": 627,
   "metadata": {
    "collapsed": false
   },
   "outputs": [
    {
     "data": {
      "text/plain": [
       "400"
      ]
     },
     "execution_count": 627,
     "metadata": {},
     "output_type": "execute_result"
    }
   ],
   "source": [
    "len(pred_str)"
   ]
  },
  {
   "cell_type": "code",
   "execution_count": 628,
   "metadata": {
    "collapsed": true
   },
   "outputs": [],
   "source": [
    "pd.DataFrame({df_test.columns[-1] : pred_str}).to_csv('insurance.csv', index = None)"
   ]
  },
  {
   "cell_type": "code",
   "execution_count": 629,
   "metadata": {
    "collapsed": true
   },
   "outputs": [],
   "source": [
    "sub = pd.read_csv('insurance.csv')"
   ]
  },
  {
   "cell_type": "code",
   "execution_count": 630,
   "metadata": {
    "collapsed": false
   },
   "outputs": [
    {
     "data": {
      "text/plain": [
       "(400, 1)"
      ]
     },
     "execution_count": 630,
     "metadata": {},
     "output_type": "execute_result"
    }
   ],
   "source": [
    "sub.shape"
   ]
  }
 ],
 "metadata": {
  "anaconda-cloud": {},
  "kernelspec": {
   "display_name": "Python [Anaconda3]",
   "language": "python",
   "name": "Python [Anaconda3]"
  },
  "language_info": {
   "codemirror_mode": {
    "name": "ipython",
    "version": 3
   },
   "file_extension": ".py",
   "mimetype": "text/x-python",
   "name": "python",
   "nbconvert_exporter": "python",
   "pygments_lexer": "ipython3",
   "version": "3.5.6"
  }
 },
 "nbformat": 4,
 "nbformat_minor": 2
}
